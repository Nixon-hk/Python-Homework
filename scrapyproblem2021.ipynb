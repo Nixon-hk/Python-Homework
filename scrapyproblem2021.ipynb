{
  "nbformat": 4,
  "nbformat_minor": 0,
  "metadata": {
    "colab": {
      "name": "scrapyproblem2021.ipynb",
      "provenance": [],
      "collapsed_sections": [],
      "authorship_tag": "ABX9TyMjnNWEIrVoL61L+CCSl7C2",
      "include_colab_link": true
    },
    "kernelspec": {
      "name": "python3",
      "display_name": "Python 3"
    },
    "language_info": {
      "name": "python"
    }
  },
  "cells": [
    {
      "cell_type": "markdown",
      "metadata": {
        "id": "view-in-github",
        "colab_type": "text"
      },
      "source": [
        "<a href=\"https://colab.research.google.com/github/Nixon-tw/Python-Homework/blob/main/scrapyproblem2021.ipynb\" target=\"_parent\"><img src=\"https://colab.research.google.com/assets/colab-badge.svg\" alt=\"Open In Colab\"/></a>"
      ]
    },
    {
      "cell_type": "code",
      "metadata": {
        "id": "nRDj2w55vGB9"
      },
      "source": [
        "import requests\n",
        "import urllib.request\n",
        "import time\n",
        "from bs4 import BeautifulSoup\n",
        "import numpy as np\n",
        "import pandas as pd\n",
        "from urllib.request import urlopen\n"
      ],
      "execution_count": null,
      "outputs": []
    },
    {
      "cell_type": "code",
      "metadata": {
        "id": "yhS2wqgRvQBX"
      },
      "source": [
        "url = 'https://zh.wikipedia.org/wiki/%E7%8E%8B%E9%87%91%E5%B9%B3?fbclid=IwAR1gVwXA0gOepnVQA_rbwpTbtNeu0pCfzPFQ-Pej1qtXiJxFp0ve3InMkaM'\n",
        "response = requests.get(url)\n",
        "soup = BeautifulSoup(response.text, 'html.parser')"
      ],
      "execution_count": null,
      "outputs": []
    },
    {
      "cell_type": "code",
      "metadata": {
        "id": "NP6AfgI-vR19"
      },
      "source": [
        "table = soup.find('table',{'class': 'infobox vcard'}).tbody"
      ],
      "execution_count": null,
      "outputs": []
    },
    {
      "cell_type": "code",
      "metadata": {
        "colab": {
          "base_uri": "https://localhost:8080/"
        },
        "id": "VDQ-r-z-vTi2",
        "outputId": "b5704208-7aad-45c6-e073-07644416548a"
      },
      "source": [
        "print(table)"
      ],
      "execution_count": null,
      "outputs": [
        {
          "output_type": "stream",
          "name": "stdout",
          "text": [
            "<tbody><tr><th colspan=\"2\" style=\"text-align:center;font-size:125%;font-weight:bold;font-size: 120%;\"><span class=\"fn\">王金平</span></th></tr><tr><td colspan=\"2\" style=\"text-align:center\"><a class=\"image\" href=\"/wiki/File:Wang_Jin-pyng,_President_of_the_Legislative_Yuan_(7172294519)_(cropped).jpg\"><img alt=\"Wang Jin-pyng, President of the Legislative Yuan (7172294519) (cropped).jpg\" data-file-height=\"1486\" data-file-width=\"1191\" decoding=\"async\" height=\"293\" src=\"//upload.wikimedia.org/wikipedia/commons/thumb/f/f7/Wang_Jin-pyng%2C_President_of_the_Legislative_Yuan_%287172294519%29_%28cropped%29.jpg/235px-Wang_Jin-pyng%2C_President_of_the_Legislative_Yuan_%287172294519%29_%28cropped%29.jpg\" srcset=\"//upload.wikimedia.org/wikipedia/commons/thumb/f/f7/Wang_Jin-pyng%2C_President_of_the_Legislative_Yuan_%287172294519%29_%28cropped%29.jpg/353px-Wang_Jin-pyng%2C_President_of_the_Legislative_Yuan_%287172294519%29_%28cropped%29.jpg 1.5x, //upload.wikimedia.org/wikipedia/commons/thumb/f/f7/Wang_Jin-pyng%2C_President_of_the_Legislative_Yuan_%287172294519%29_%28cropped%29.jpg/470px-Wang_Jin-pyng%2C_President_of_the_Legislative_Yuan_%287172294519%29_%28cropped%29.jpg 2x\" width=\"235\"/></a></td></tr><tr><td colspan=\"2\" style=\"text-align:center;\"></td></tr><tr><th colspan=\"2\" style=\"text-align:center;background:lavender;;\"><span class=\"flagicon\"><img alt=\"\" class=\"thumbborder\" data-file-height=\"600\" data-file-width=\"900\" decoding=\"async\" height=\"15\" src=\"//upload.wikimedia.org/wikipedia/commons/thumb/7/72/Flag_of_the_Republic_of_China.svg/22px-Flag_of_the_Republic_of_China.svg.png\" srcset=\"//upload.wikimedia.org/wikipedia/commons/thumb/7/72/Flag_of_the_Republic_of_China.svg/33px-Flag_of_the_Republic_of_China.svg.png 1.5x, //upload.wikimedia.org/wikipedia/commons/thumb/7/72/Flag_of_the_Republic_of_China.svg/44px-Flag_of_the_Republic_of_China.svg.png 2x\" width=\"22\"/> </span><a href=\"/wiki/%E4%B8%AD%E8%8F%AF%E6%B0%91%E5%9C%8B\" title=\"中華民國\">中華民國</a>第10任<a href=\"/wiki/%E7%AB%8B%E6%B3%95%E9%99%A2%E9%99%A2%E9%95%B7\" title=\"立法院院長\">立法院院長</a> <a class=\"image\" href=\"/wiki/File:ROC_Legislative_Yuan_Seal.svg\"><img alt=\"ROC Legislative Yuan Seal.svg\" data-file-height=\"490\" data-file-width=\"500\" decoding=\"async\" height=\"20\" src=\"//upload.wikimedia.org/wikipedia/commons/thumb/8/84/ROC_Legislative_Yuan_Seal.svg/20px-ROC_Legislative_Yuan_Seal.svg.png\" srcset=\"//upload.wikimedia.org/wikipedia/commons/thumb/8/84/ROC_Legislative_Yuan_Seal.svg/30px-ROC_Legislative_Yuan_Seal.svg.png 1.5x, //upload.wikimedia.org/wikipedia/commons/thumb/8/84/ROC_Legislative_Yuan_Seal.svg/40px-ROC_Legislative_Yuan_Seal.svg.png 2x\" width=\"20\"/></a></th></tr><tr><td colspan=\"2\" style=\"text-align:center;border-bottom:none;\"><span class=\"nowrap\"><b>任期</b></span><br/>1999年2月1日－2016年1月31日</td></tr><tr><th scope=\"row\" style=\"text-align:left;white-space:nowrap; text-align:left;\">总统</th><td style=\"\"><a href=\"/wiki/%E6%9D%8E%E7%99%BB%E8%BC%9D\" title=\"李登輝\">李登輝</a><br/><a href=\"/wiki/%E9%99%B3%E6%B0%B4%E6%89%81\" title=\"陳水扁\">陳水扁</a><br/><a href=\"/wiki/%E9%A6%AC%E8%8B%B1%E4%B9%9D\" title=\"馬英九\">馬英九</a></td></tr><tr><th scope=\"row\" style=\"text-align:left;white-space:nowrap; text-align:left;\">副职</th><td style=\"\"><a href=\"/wiki/%E9%A5%92%E7%A9%8E%E5%A5%87\" title=\"饒穎奇\">饒穎奇</a><br/><a href=\"/wiki/%E6%B1%9F%E4%B8%99%E5%9D%A4\" title=\"江丙坤\">江丙坤</a><br/><a href=\"/wiki/%E9%8D%BE%E6%A6%AE%E5%90%89\" title=\"鍾榮吉\">鍾榮吉</a><br/><a href=\"/wiki/%E6%9B%BE%E6%B0%B8%E6%AC%8A\" title=\"曾永權\">曾永權</a><br/><a href=\"/wiki/%E6%B4%AA%E7%A7%80%E6%9F%B1\" title=\"洪秀柱\">洪秀柱</a></td></tr><tr><th scope=\"row\" style=\"text-align:left;white-space:nowrap; text-align:left;\">前任</th><td style=\"\"><a href=\"/wiki/%E5%8A%89%E6%9D%BE%E8%97%A9\" title=\"劉松藩\">劉松藩</a></td></tr><tr><th scope=\"row\" style=\"text-align:left;white-space:nowrap; text-align:left;\">继任</th><td style=\"\"><a href=\"/wiki/%E8%98%87%E5%98%89%E5%85%A8\" title=\"蘇嘉全\">蘇嘉全</a></td></tr><tr><th colspan=\"2\" style=\"text-align:center;background:lavender;;\"><span class=\"flagicon\"><img alt=\"\" class=\"thumbborder\" data-file-height=\"600\" data-file-width=\"900\" decoding=\"async\" height=\"15\" src=\"//upload.wikimedia.org/wikipedia/commons/thumb/7/72/Flag_of_the_Republic_of_China.svg/22px-Flag_of_the_Republic_of_China.svg.png\" srcset=\"//upload.wikimedia.org/wikipedia/commons/thumb/7/72/Flag_of_the_Republic_of_China.svg/33px-Flag_of_the_Republic_of_China.svg.png 1.5x, //upload.wikimedia.org/wikipedia/commons/thumb/7/72/Flag_of_the_Republic_of_China.svg/44px-Flag_of_the_Republic_of_China.svg.png 2x\" width=\"22\"/> </span><a href=\"/wiki/%E4%B8%AD%E8%8F%AF%E6%B0%91%E5%9C%8B\" title=\"中華民國\">中華民國</a>第10任立法院副院長<a class=\"image\" href=\"/wiki/File:ROC_Legislative_Yuan_Seal.svg\"><img alt=\"ROC Legislative Yuan Seal.svg\" data-file-height=\"490\" data-file-width=\"500\" decoding=\"async\" height=\"20\" src=\"//upload.wikimedia.org/wikipedia/commons/thumb/8/84/ROC_Legislative_Yuan_Seal.svg/20px-ROC_Legislative_Yuan_Seal.svg.png\" srcset=\"//upload.wikimedia.org/wikipedia/commons/thumb/8/84/ROC_Legislative_Yuan_Seal.svg/30px-ROC_Legislative_Yuan_Seal.svg.png 1.5x, //upload.wikimedia.org/wikipedia/commons/thumb/8/84/ROC_Legislative_Yuan_Seal.svg/40px-ROC_Legislative_Yuan_Seal.svg.png 2x\" width=\"20\"/></a></th></tr><tr><td colspan=\"2\" style=\"text-align:center;border-bottom:none;\"><span class=\"nowrap\"><b>任期</b></span><br/>1993年2月1日－1999年1月31日</td></tr><tr><th scope=\"row\" style=\"text-align:left;white-space:nowrap; text-align:left;\">立法院院長</th><td style=\"\"><a href=\"/wiki/%E5%8A%89%E6%9D%BE%E8%97%A9\" title=\"劉松藩\">劉松藩</a></td></tr><tr><th scope=\"row\" style=\"text-align:left;white-space:nowrap; text-align:left;\">前任</th><td style=\"\"><a href=\"/wiki/%E6%B2%88%E4%B8%96%E9%9B%84\" title=\"沈世雄\">沈世雄</a></td></tr><tr><th scope=\"row\" style=\"text-align:left;white-space:nowrap; text-align:left;\">继任</th><td style=\"\"><a href=\"/wiki/%E9%A5%92%E7%A9%8E%E5%A5%87\" title=\"饒穎奇\">饒穎奇</a></td></tr><tr><th colspan=\"2\" style=\"text-align:center;background:lavender;;\"><span style=\"height:20px; width:20px; display:inline-block; border-radius:10px\"><img alt=\"中國國民黨\" data-file-height=\"600\" data-file-width=\"600\" decoding=\"async\" height=\"20\" src=\"//upload.wikimedia.org/wikipedia/commons/thumb/a/a1/Emblem_of_the_Kuomintang.svg/20px-Emblem_of_the_Kuomintang.svg.png\" srcset=\"//upload.wikimedia.org/wikipedia/commons/thumb/a/a1/Emblem_of_the_Kuomintang.svg/30px-Emblem_of_the_Kuomintang.svg.png 1.5x, //upload.wikimedia.org/wikipedia/commons/thumb/a/a1/Emblem_of_the_Kuomintang.svg/40px-Emblem_of_the_Kuomintang.svg.png 2x\" title=\"中國國民黨\" width=\"20\"/></span> <a href=\"/wiki/%E4%B8%AD%E5%9C%8B%E5%9C%8B%E6%B0%91%E9%BB%A8\" title=\"中國國民黨\">中國國民黨</a>副主席</th></tr><tr><td colspan=\"2\" style=\"text-align:center;border-bottom:none;\"><span class=\"nowrap\"><b>任期</b></span><br/>2000年6月18日－2005年8月19日<br/>与<a href=\"/wiki/%E8%95%AD%E8%90%AC%E9%95%B7\" title=\"蕭萬長\">蕭萬長</a>、<a href=\"/wiki/%E8%94%A3%E4%BB%B2%E8%8B%93\" title=\"蔣仲苓\">蔣仲苓</a>、<a href=\"/wiki/%E5%90%B3%E4%BC%AF%E9%9B%84\" title=\"吳伯雄\">吳伯雄</a>、<a href=\"/wiki/%E6%9E%97%E6%BE%84%E6%9E%9D\" title=\"林澄枝\">林澄枝</a>、<a href=\"/wiki/%E6%B1%9F%E4%B8%99%E5%9D%A4\" title=\"江丙坤\">江丙坤</a>、<a href=\"/wiki/%E9%A6%AC%E8%8B%B1%E4%B9%9D\" title=\"馬英九\">馬英九</a>同时在任</td></tr><tr><th scope=\"row\" style=\"text-align:left;white-space:nowrap; text-align:left;\">主席</th><td style=\"\"><a href=\"/wiki/%E9%80%A3%E6%88%B0\" title=\"連戰\">連戰</a></td></tr><tr><th colspan=\"2\" style=\"text-align:center;background:lavender;;\"><span class=\"flagicon\"><img alt=\"\" class=\"thumbborder\" data-file-height=\"600\" data-file-width=\"900\" decoding=\"async\" height=\"15\" src=\"//upload.wikimedia.org/wikipedia/commons/thumb/7/72/Flag_of_the_Republic_of_China.svg/22px-Flag_of_the_Republic_of_China.svg.png\" srcset=\"//upload.wikimedia.org/wikipedia/commons/thumb/7/72/Flag_of_the_Republic_of_China.svg/33px-Flag_of_the_Republic_of_China.svg.png 1.5x, //upload.wikimedia.org/wikipedia/commons/thumb/7/72/Flag_of_the_Republic_of_China.svg/44px-Flag_of_the_Republic_of_China.svg.png 2x\" width=\"22\"/> </span><a href=\"/wiki/%E4%B8%AD%E8%8F%AF%E6%B0%91%E5%9C%8B\" title=\"中華民國\">中華民國</a><a href=\"/wiki/%E7%AB%8B%E6%B3%95%E9%99%A2\" title=\"立法院\">立法院</a>立法委員</th></tr><tr><td colspan=\"2\" style=\"text-align:center;border-bottom:none;\"><span class=\"nowrap\"><b>任期</b></span><br/>1976年2月1日－2020年1月31日</td></tr><tr><th scope=\"row\" style=\"text-align:left;white-space:nowrap; text-align:left;\">选区</th><td style=\"\">→<a href=\"/wiki/%E8%87%BA%E7%81%A3%E7%9C%81\" title=\"臺灣省\">臺灣省</a>第五選區<br/>→<a href=\"/wiki/%E9%AB%98%E9%9B%84%E7%B8%A3\" title=\"高雄縣\">高雄縣</a>選舉區<br/><a href=\"/wiki/%E5%85%A8%E5%9C%8B%E4%B8%8D%E5%88%86%E5%8D%80%E5%8F%8A%E5%83%91%E5%B1%85%E5%9C%8B%E5%A4%96%E5%9C%8B%E6%B0%91%E9%81%B8%E5%8D%80\" title=\"全國不分區及僑居國外國民選區\">全國不分區及僑居國外國民選區</a></td></tr><tr style=\"display:none\"><td colspan=\"2\">\n",
            "</td></tr><tr><th colspan=\"2\" style=\"text-align:center;background:lavender;\">个人资料</th></tr><tr><th scope=\"row\" style=\"text-align:left;white-space:nowrap;;\">性别</th><td style=\"\">男</td></tr><tr><th scope=\"row\" style=\"text-align:left;white-space:nowrap;;\">出生</th><td style=\"\"><span style=\"display:none\"> (<span class=\"bday\">1941-03-17</span>) </span>1941年3月17日<span class=\"noprint ForceAgeToShow\">（<span class=\"currentage\"></span>80歲）</span><br/><span class=\"birthplace\"><span class=\"flagicon\"><img alt=\"\" class=\"thumbborder\" data-file-height=\"700\" data-file-width=\"1000\" decoding=\"async\" height=\"15\" src=\"//upload.wikimedia.org/wikipedia/commons/thumb/1/1b/Flag_of_Japan_%281870%E2%80%931999%29.svg/22px-Flag_of_Japan_%281870%E2%80%931999%29.svg.png\" srcset=\"//upload.wikimedia.org/wikipedia/commons/thumb/1/1b/Flag_of_Japan_%281870%E2%80%931999%29.svg/33px-Flag_of_Japan_%281870%E2%80%931999%29.svg.png 1.5x, //upload.wikimedia.org/wikipedia/commons/thumb/1/1b/Flag_of_Japan_%281870%E2%80%931999%29.svg/44px-Flag_of_Japan_%281870%E2%80%931999%29.svg.png 2x\" width=\"22\"/></span> <a href=\"/wiki/%E5%8F%B0%E7%81%A3%E6%97%A5%E6%B2%BB%E6%99%82%E6%9C%9F\" title=\"台灣日治時期\">日治臺灣</a><a href=\"/wiki/%E9%AB%98%E9%9B%84%E5%B7%9E\" title=\"高雄州\">高雄州</a><br/><a href=\"/wiki/%E5%B2%A1%E5%B1%B1%E9%83%A1\" title=\"岡山郡\">岡山郡</a><a href=\"/wiki/%E8%B7%AF%E7%AB%B9%E5%BA%84\" title=\"路竹庄\">路竹庄</a></span></td></tr><tr><th scope=\"row\" style=\"text-align:left;white-space:nowrap;;\">籍贯</th><td style=\"\"><a href=\"/wiki/%E9%AB%98%E9%9B%84%E5%B8%82\" title=\"高雄市\">高雄市</a><a href=\"/wiki/%E8%B7%AF%E7%AB%B9%E5%8D%80\" title=\"路竹區\">路竹區</a></td></tr><tr><th scope=\"row\" style=\"text-align:left;white-space:nowrap;;\">国籍</th><td style=\"\"><span class=\"flagicon\"><img alt=\"\" class=\"thumbborder\" data-file-height=\"700\" data-file-width=\"1000\" decoding=\"async\" height=\"15\" src=\"//upload.wikimedia.org/wikipedia/commons/thumb/1/1b/Flag_of_Japan_%281870%E2%80%931999%29.svg/22px-Flag_of_Japan_%281870%E2%80%931999%29.svg.png\" srcset=\"//upload.wikimedia.org/wikipedia/commons/thumb/1/1b/Flag_of_Japan_%281870%E2%80%931999%29.svg/33px-Flag_of_Japan_%281870%E2%80%931999%29.svg.png 1.5x, //upload.wikimedia.org/wikipedia/commons/thumb/1/1b/Flag_of_Japan_%281870%E2%80%931999%29.svg/44px-Flag_of_Japan_%281870%E2%80%931999%29.svg.png 2x\" width=\"22\"/> </span><a class=\"mw-redirect\" href=\"/wiki/%E5%A4%A7%E6%97%A5%E6%9C%AC%E5%B8%9D%E5%9C%8B\" title=\"大日本帝國\">大日本帝國</a>（1941年－1945年）<br/><span class=\"flagicon\"><img alt=\"\" class=\"thumbborder\" data-file-height=\"600\" data-file-width=\"900\" decoding=\"async\" height=\"15\" src=\"//upload.wikimedia.org/wikipedia/commons/thumb/7/72/Flag_of_the_Republic_of_China.svg/22px-Flag_of_the_Republic_of_China.svg.png\" srcset=\"//upload.wikimedia.org/wikipedia/commons/thumb/7/72/Flag_of_the_Republic_of_China.svg/33px-Flag_of_the_Republic_of_China.svg.png 1.5x, //upload.wikimedia.org/wikipedia/commons/thumb/7/72/Flag_of_the_Republic_of_China.svg/44px-Flag_of_the_Republic_of_China.svg.png 2x\" width=\"22\"/> </span><a href=\"/wiki/%E4%B8%AD%E8%8F%AF%E6%B0%91%E5%9C%8B\" title=\"中華民國\">中華民國</a>（1945年至今）</td></tr><tr><th scope=\"row\" style=\"text-align:left;white-space:nowrap;;\">政党</th><td style=\"\"><span style=\"height:20px; width:20px; display:inline-block; border-radius:10px\"><img alt=\"中國國民黨\" data-file-height=\"600\" data-file-width=\"600\" decoding=\"async\" height=\"20\" src=\"//upload.wikimedia.org/wikipedia/commons/thumb/a/a1/Emblem_of_the_Kuomintang.svg/20px-Emblem_of_the_Kuomintang.svg.png\" srcset=\"//upload.wikimedia.org/wikipedia/commons/thumb/a/a1/Emblem_of_the_Kuomintang.svg/30px-Emblem_of_the_Kuomintang.svg.png 1.5x, //upload.wikimedia.org/wikipedia/commons/thumb/a/a1/Emblem_of_the_Kuomintang.svg/40px-Emblem_of_the_Kuomintang.svg.png 2x\" title=\"中國國民黨\" width=\"20\"/></span> <a href=\"/wiki/%E4%B8%AD%E5%9C%8B%E5%9C%8B%E6%B0%91%E9%BB%A8\" title=\"中國國民黨\">中國國民黨</a></td></tr><tr><th scope=\"row\" style=\"text-align:left;white-space:nowrap;;\">配偶</th><td style=\"\">王陳彩蓮</td></tr><tr><th scope=\"row\" style=\"text-align:left;white-space:nowrap;;\">儿女</th><td style=\"\">王馨敏（長女）<br/>王馨淳（次女）<br/>王柄堯（長子）</td></tr><tr><th scope=\"row\" style=\"text-align:left;white-space:nowrap;;\">父母</th><td style=\"\">王科（父）</td></tr><tr><th scope=\"row\" style=\"text-align:left;white-space:nowrap;;\">宗教信仰</th><td style=\"\"><a href=\"/wiki/%E4%BD%9B%E6%95%99\" title=\"佛教\">佛教</a> 、<a href=\"/wiki/%E9%81%93%E6%95%99\" title=\"道教\">道教</a> 、<a class=\"mw-redirect\" href=\"/wiki/%E4%B8%AD%E5%9C%8B%E6%B0%91%E9%96%93%E4%BF%A1%E4%BB%B0\" title=\"中國民間信仰\">中國民間信仰</a></td></tr><tr><th scope=\"row\" style=\"text-align:left;white-space:nowrap;;\">获奖</th><td style=\"\">\n",
            "<ul><li><a href=\"/wiki/%E6%97%AD%E6%97%A5%E5%A4%A7%E7%B6%AC%E7%AB%A0\" title=\"旭日大绶章\"><img alt=\"旭日大绶章\" data-file-height=\"60\" data-file-width=\"218\" decoding=\"async\" height=\"17\" src=\"//upload.wikimedia.org/wikipedia/commons/thumb/c/c4/JPN_Kyokujitsu-sho_1Class_BAR.svg/60px-JPN_Kyokujitsu-sho_1Class_BAR.svg.png\" srcset=\"//upload.wikimedia.org/wikipedia/commons/thumb/c/c4/JPN_Kyokujitsu-sho_1Class_BAR.svg/90px-JPN_Kyokujitsu-sho_1Class_BAR.svg.png 1.5x, //upload.wikimedia.org/wikipedia/commons/thumb/c/c4/JPN_Kyokujitsu-sho_1Class_BAR.svg/120px-JPN_Kyokujitsu-sho_1Class_BAR.svg.png 2x\" width=\"60\"/></a>旭日大綬章</li></ul>\n",
            "</td></tr><tr><td colspan=\"2\" style=\"text-align:center;\"></td></tr><tr><td colspan=\"2\" style=\"text-align:center;\"><div class=\"NavFrame collapsed\" style=\"border: none; padding: 0;\">\n",
            "<div class=\"NavHead\" style=\"font-size: 105%; background: transparent; text-align: left; background: lavender;text-align:center;\">学历</div>\n",
            "<ul class=\"NavContent\" style=\"list-style: none none; margin-left: 0; text-align: left; font-size: 105%; margin-top: 0; margin-bottom: 0; line-height: inherit;\"><li style=\"line-height: inherit; margin: 0\"><ul class=\"NavContent\" style=\"margin-left: 0;padding:0 0.2em 0.2em;\">\n",
            "<a href=\"/wiki/%E5%9C%8B%E7%AB%8B%E8%87%BA%E5%8D%97%E7%AC%AC%E4%B8%80%E9%AB%98%E7%B4%9A%E4%B8%AD%E5%AD%B8\" title=\"國立臺南第一高級中學\">國立臺南第一高級中學</a><br/><a href=\"/wiki/%E5%9C%8B%E7%AB%8B%E8%87%BA%E7%81%A3%E5%B8%AB%E7%AF%84%E5%A4%A7%E5%AD%B8\" title=\"國立臺灣師範大學\">臺灣省立師範學院</a>（今<a href=\"/wiki/%E5%9C%8B%E7%AB%8B%E8%87%BA%E7%81%A3%E5%B8%AB%E7%AF%84%E5%A4%A7%E5%AD%B8\" title=\"國立臺灣師範大學\">國立臺灣師範大學</a>）數學系</ul></li></ul>\n",
            "</div></td></tr><tr><td colspan=\"2\" style=\"text-align:center;\"><div class=\"NavFrame collapsed\" style=\"border: none; padding: 0;\">\n",
            "<div class=\"NavHead\" style=\"font-size: 105%; background: transparent; text-align: left; background: lavender;text-align:center;\">经历</div>\n",
            "<ul class=\"NavContent\" style=\"list-style: none none; margin-left: 0; text-align: left; font-size: 105%; margin-top: 0; margin-bottom: 0; line-height: inherit;\"><li style=\"line-height: inherit; margin: 0\"><ul class=\"NavContent\" style=\"margin-left: 0;padding:0 0.2em 0.2em;\">\n",
            "<ul><li>高雄縣工業會理事長<br/><span style=\"color: blue;\">（1975年－1981年）</span></li>\n",
            "<li>立法院（第一屆增額）委員<br/><span style=\"color: blue;\">（1976年－1993年）</span></li>\n",
            "<li>中國國民黨立法院工作會主任<br/><span style=\"color: blue;\">（1991年－1993年）</span></li>\n",
            "<li>中國國民黨立法院黨團書記長<br/><span style=\"color: blue;\">（1991年－1993年）</span></li>\n",
            "<li>中日國會議員聯誼會會長<br/><span style=\"color: blue;\">（1992年－）</span></li>\n",
            "<li>中國國民黨中央常務委員<br/><span style=\"color: blue;\">（1992年8月－2000年6月）</span></li>\n",
            "<li>立法院（第二、三屆）副院長<br/><span style=\"color: blue;\">（1993年2月1日－1999年1月31日）</span></li>\n",
            "<li><a href=\"/wiki/%E5%8F%B0%E7%81%A3%E8%81%B7%E6%A3%92%E5%A4%A7%E8%81%AF%E7%9B%9F\" title=\"台灣職棒大聯盟\">台灣職棒大聯盟</a>會長<br/><span style=\"color: blue;\">（1997年－2002年）</span></li>\n",
            "<li><a class=\"new\" href=\"/w/index.php?title=%E8%87%BA%E7%81%A3%E7%99%8C%E7%97%87%E5%9F%BA%E9%87%91%E6%9C%83&amp;action=edit&amp;redlink=1\" title=\"臺灣癌症基金會（页面不存在）\">臺灣癌症基金會</a>董事長<br/><span style=\"color: blue;\">（1997年－）</span></li>\n",
            "<li>中華民國義消協會理事長<br/><span style=\"color: blue;\">（1997年－）</span></li>\n",
            "<li>立法院（第四、五、六、七、八屆）院長<br/><span style=\"color: blue;\">（1999年2月1日－2016年1月31日）</span></li>\n",
            "<li>中國國民黨副主席<br/><span style=\"color: blue;\">（2000年6月－2005年8月）</span></li>\n",
            "<li>中國國民黨政策會副主任委員</li>\n",
            "<li>中華民國立法委員協會理事長</li>\n",
            "<li>社團法人<a href=\"/wiki/%E5%9C%8B%E5%AE%B6%E7%94%9F%E6%8A%80%E9%86%AB%E7%99%82%E7%94%A2%E6%A5%AD%E7%AD%96%E9%80%B2%E6%9C%83\" title=\"國家生技醫療產業策進會\">國家生技醫療產業策進會</a>創辦人兼首任會長</li>\n",
            "<li>財團法人生技醫療科技政策研究中心創辦人兼董事長</li>\n",
            "<li>中華民國無障礙環境推廣協會榮譽理事長</li>\n",
            "<li>立法院（第二、三、四、五、六、七、八、九屆）委員<br/><span style=\"color: blue;\">（1993年2月1日－2020年1月31日）</span></li></ul></ul></li></ul>\n",
            "</div></td></tr><tr><td colspan=\"2\" style=\"text-align:center;\"><div class=\"NavFrame collapsed\" style=\"border: none; padding: 0;\">\n",
            "<div class=\"NavHead\" style=\"font-size: 105%; background: transparent; text-align: left; background: lavender;text-align:center;\">著作</div>\n",
            "<ul class=\"NavContent\" style=\"list-style: none none; margin-left: 0; text-align: left; font-size: 105%; margin-top: 0; margin-bottom: 0; line-height: inherit;\"><li style=\"line-height: inherit; margin: 0\"><ul class=\"NavContent\" style=\"margin-left: 0;padding:0 0.2em 0.2em;\">\n",
            "《橋：走近王金平》（王金平口述，李靜宜採訪 ）<sup class=\"reference\" id=\"cite_ref-名字對稱1_1-0\"><a href=\"#cite_note-名字對稱1-1\">[1]</a></sup><sup class=\"reference\" id=\"cite_ref-名字對稱2_2-0\"><a href=\"#cite_note-名字對稱2-2\">[2]</a></sup></ul></li></ul>\n",
            "</div></td></tr><tr style=\"display:none\"><td colspan=\"2\">\n",
            "</td></tr></tbody>\n"
          ]
        }
      ]
    },
    {
      "cell_type": "code",
      "metadata": {
        "id": "NRskiXcGvWA1"
      },
      "source": [
        "label = table.find(text=\"性别\")"
      ],
      "execution_count": null,
      "outputs": []
    },
    {
      "cell_type": "code",
      "metadata": {
        "colab": {
          "base_uri": "https://localhost:8080/"
        },
        "id": "RWrbrQbavk6l",
        "outputId": "d697e8ce-9d30-4527-d199-0e95923c1f3e"
      },
      "source": [
        "print(label.next_element)"
      ],
      "execution_count": null,
      "outputs": [
        {
          "output_type": "stream",
          "name": "stdout",
          "text": [
            "<td style=\"\">男</td>\n"
          ]
        }
      ]
    }
  ]
}